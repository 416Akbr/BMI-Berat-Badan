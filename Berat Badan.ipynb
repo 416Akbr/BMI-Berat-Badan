{
 "cells": [
  {
   "cell_type": "markdown",
   "metadata": {},
   "source": [
    "# Berat badan"
   ]
  },
  {
   "cell_type": "code",
   "execution_count": 22,
   "metadata": {},
   "outputs": [
    {
     "name": "stdout",
     "output_type": "stream",
     "text": [
      "Masukan tinggi :1.7\n",
      "Masukan berat :89\n",
      "status : Obesitas\n"
     ]
    }
   ],
   "source": [
    "tinggi = float(input(\"Masukan tinggi :\"))\n",
    "berat = int(input(\"Masukan berat :\"))\n",
    "bmi = berat / (tinggi*tinggi)\n",
    "if bmi < 18.5:\n",
    "    status=\"Berat badan kurang\"\n",
    "elif bmi >= 18.5 and bmi <=22.9:\n",
    "    status=\"Ideal\"\n",
    "elif bmi >= 23 and bmi <=22.9:\n",
    "    status=\"Berat badan berlebih\"\n",
    "else:\n",
    "    status=\"Obesitas\"\n",
    "print(\"status :\",status)"
   ]
  },
  {
   "cell_type": "code",
   "execution_count": null,
   "metadata": {},
   "outputs": [],
   "source": []
  },
  {
   "cell_type": "code",
   "execution_count": null,
   "metadata": {},
   "outputs": [],
   "source": []
  }
 ],
 "metadata": {
  "kernelspec": {
   "display_name": "Python 3",
   "language": "python",
   "name": "python3"
  },
  "language_info": {
   "codemirror_mode": {
    "name": "ipython",
    "version": 3
   },
   "file_extension": ".py",
   "mimetype": "text/x-python",
   "name": "python",
   "nbconvert_exporter": "python",
   "pygments_lexer": "ipython3",
   "version": "3.7.1"
  }
 },
 "nbformat": 4,
 "nbformat_minor": 2
}
